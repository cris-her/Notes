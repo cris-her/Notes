{
 "cells": [
  {
   "cell_type": "code",
   "execution_count": 1,
   "metadata": {},
   "outputs": [],
   "source": [
    "%matplotlib inline\n",
    "import pandas as pd\n",
    "import matplotlib.pyplot as plt"
   ]
  },
  {
   "cell_type": "code",
   "execution_count": 2,
   "metadata": {},
   "outputs": [],
   "source": [
    "cals = pd.read_csv('./vol/Calificaciones.csv')"
   ]
  },
  {
   "cell_type": "code",
   "execution_count": 3,
   "metadata": {},
   "outputs": [
    {
     "data": {
      "text/plain": [
       "<matplotlib.axes._subplots.AxesSubplot at 0x7f3a7703f2b0>"
      ]
     },
     "execution_count": 3,
     "metadata": {},
     "output_type": "execute_result"
    },
    {
     "data": {
      "image/png": "[encoded data removed]",
      "text/plain": [
       "<matplotlib.figure.Figure at 0x7f3a77026a20>"
      ]
     },
     "metadata": {},
     "output_type": "display_data"
    }
   ],
   "source": [
    "cals['Calificaciones'].hist()"
   ]
  },
  {
   "cell_type": "code",
   "execution_count": 4,
   "metadata": {},
   "outputs": [],
   "source": [
    "cals_ni=pd.crosstab(index=cals['Calificaciones'],columns='Frecuencia absoluta')\n",
    "cals_Ni=cals_ni.cumsum()\n",
    "cals_fr=cals_ni/cals.shape[0]\n",
    "cals_fra=cals_Ni/cals.shape[0]\n",
    "cals_frp=cals_fr*100\n",
    "cals_frap=cals_fra*100"
   ]
  },
  {
   "cell_type": "code",
   "execution_count": 5,
   "metadata": {},
   "outputs": [
    {
     "data": {
      "text/html": [
       "<div>\n",
       "<table border=\"1\" class=\"dataframe\">\n",
       "  <thead>\n",
       "    <tr style=\"text-align: right;\">\n",
       "      <th></th>\n",
       "      <th>Frecuencia absoluta</th>\n",
       "      <th>Frecuencia absoluta acumulada</th>\n",
       "      <th>Frecuencia relativa</th>\n",
       "      <th>Frecuencia relativa acumulada</th>\n",
       "      <th>Frecuencia relativa %</th>\n",
       "      <th>Frecuencia relativa acumulada %</th>\n",
       "    </tr>\n",
       "    <tr>\n",
       "      <th>Calificaciones</th>\n",
       "      <th></th>\n",
       "      <th></th>\n",
       "      <th></th>\n",
       "      <th></th>\n",
       "      <th></th>\n",
       "      <th></th>\n",
       "    </tr>\n",
       "  </thead>\n",
       "  <tbody>\n",
       "    <tr>\n",
       "      <th>3</th>\n",
       "      <td>2</td>\n",
       "      <td>2</td>\n",
       "      <td>0.066667</td>\n",
       "      <td>0.066667</td>\n",
       "      <td>6.666667</td>\n",
       "      <td>6.666667</td>\n",
       "    </tr>\n",
       "    <tr>\n",
       "      <th>4</th>\n",
       "      <td>4</td>\n",
       "      <td>6</td>\n",
       "      <td>0.133333</td>\n",
       "      <td>0.200000</td>\n",
       "      <td>13.333333</td>\n",
       "      <td>20.000000</td>\n",
       "    </tr>\n",
       "    <tr>\n",
       "      <th>5</th>\n",
       "      <td>6</td>\n",
       "      <td>12</td>\n",
       "      <td>0.200000</td>\n",
       "      <td>0.400000</td>\n",
       "      <td>20.000000</td>\n",
       "      <td>40.000000</td>\n",
       "    </tr>\n",
       "    <tr>\n",
       "      <th>6</th>\n",
       "      <td>7</td>\n",
       "      <td>19</td>\n",
       "      <td>0.233333</td>\n",
       "      <td>0.633333</td>\n",
       "      <td>23.333333</td>\n",
       "      <td>63.333333</td>\n",
       "    </tr>\n",
       "    <tr>\n",
       "      <th>7</th>\n",
       "      <td>5</td>\n",
       "      <td>24</td>\n",
       "      <td>0.166667</td>\n",
       "      <td>0.800000</td>\n",
       "      <td>16.666667</td>\n",
       "      <td>80.000000</td>\n",
       "    </tr>\n",
       "    <tr>\n",
       "      <th>8</th>\n",
       "      <td>3</td>\n",
       "      <td>27</td>\n",
       "      <td>0.100000</td>\n",
       "      <td>0.900000</td>\n",
       "      <td>10.000000</td>\n",
       "      <td>90.000000</td>\n",
       "    </tr>\n",
       "    <tr>\n",
       "      <th>9</th>\n",
       "      <td>2</td>\n",
       "      <td>29</td>\n",
       "      <td>0.066667</td>\n",
       "      <td>0.966667</td>\n",
       "      <td>6.666667</td>\n",
       "      <td>96.666667</td>\n",
       "    </tr>\n",
       "    <tr>\n",
       "      <th>10</th>\n",
       "      <td>1</td>\n",
       "      <td>30</td>\n",
       "      <td>0.033333</td>\n",
       "      <td>1.000000</td>\n",
       "      <td>3.333333</td>\n",
       "      <td>100.000000</td>\n",
       "    </tr>\n",
       "  </tbody>\n",
       "</table>\n",
       "</div>"
      ],
      "text/plain": [
       "                Frecuencia absoluta  Frecuencia absoluta acumulada  \\\n",
       "Calificaciones                                                       \n",
       "3                                 2                              2   \n",
       "4                                 4                              6   \n",
       "5                                 6                             12   \n",
       "6                                 7                             19   \n",
       "7                                 5                             24   \n",
       "8                                 3                             27   \n",
       "9                                 2                             29   \n",
       "10                                1                             30   \n",
       "\n",
       "                Frecuencia relativa  Frecuencia relativa acumulada  \\\n",
       "Calificaciones                                                       \n",
       "3                          0.066667                       0.066667   \n",
       "4                          0.133333                       0.200000   \n",
       "5                          0.200000                       0.400000   \n",
       "6                          0.233333                       0.633333   \n",
       "7                          0.166667                       0.800000   \n",
       "8                          0.100000                       0.900000   \n",
       "9                          0.066667                       0.966667   \n",
       "10                         0.033333                       1.000000   \n",
       "\n",
       "                Frecuencia relativa %  Frecuencia relativa acumulada %  \n",
       "Calificaciones                                                          \n",
       "3                            6.666667                         6.666667  \n",
       "4                           13.333333                        20.000000  \n",
       "5                           20.000000                        40.000000  \n",
       "6                           23.333333                        63.333333  \n",
       "7                           16.666667                        80.000000  \n",
       "8                           10.000000                        90.000000  \n",
       "9                            6.666667                        96.666667  \n",
       "10                           3.333333                       100.000000  "
      ]
     },
     "execution_count": 5,
     "metadata": {},
     "output_type": "execute_result"
    }
   ],
   "source": [
    "cals_table=pd.concat([cals_ni,cals_Ni,cals_fr,cals_fra,cals_frp,cals_frap], axis=1)\n",
    "cals_table.columns=['Frecuencia absoluta','Frecuencia absoluta acumulada','Frecuencia relativa','Frecuencia relativa acumulada','Frecuencia relativa %','Frecuencia relativa acumulada %']\n",
    "cals_table"
   ]
  },
  {
   "cell_type": "code",
   "execution_count": 6,
   "metadata": {},
   "outputs": [
    {
     "data": {
      "image/png": "[encoded data removed]",
      "text/plain": [
       "<matplotlib.figure.Figure at 0x7f3a74dd49e8>"
      ]
     },
     "metadata": {},
     "output_type": "display_data"
    }
   ],
   "source": [
    "cals_table['Frecuencia absoluta'].plot(kind='bar');"
   ]
  },
  {
   "cell_type": "code",
   "execution_count": 7,
   "metadata": {},
   "outputs": [
    {
     "data": {
      "image/png": "[encoded data removed]",
      "text/plain": [
       "<matplotlib.figure.Figure at 0x7f3a9cde4438>"
      ]
     },
     "metadata": {},
     "output_type": "display_data"
    }
   ],
   "source": [
    "cals_table['Frecuencia relativa acumulada %'].plot(kind='bar');"
   ]
  }
 ],
 "metadata": {
  "kernelspec": {
   "display_name": "Python 3",
   "language": "python",
   "name": "python3"
  },
  "language_info": {
   "codemirror_mode": {
    "name": "ipython",
    "version": 3
   },
   "file_extension": ".py",
   "mimetype": "text/x-python",
   "name": "python",
   "nbconvert_exporter": "python",
   "pygments_lexer": "ipython3",
   "version": "3.5.2"
  }
 },
 "nbformat": 4,
 "nbformat_minor": 2
}
