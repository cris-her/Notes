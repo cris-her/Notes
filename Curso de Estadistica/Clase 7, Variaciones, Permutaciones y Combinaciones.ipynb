{
 "cells": [
  {
   "cell_type": "code",
   "execution_count": 1,
   "metadata": {},
   "outputs": [],
   "source": [
    "import math"
   ]
  },
  {
   "cell_type": "code",
   "execution_count": 2,
   "metadata": {},
   "outputs": [],
   "source": [
    "def Vnr(n,r):\n",
    "    return math.factorial(n)/math.factorial(n-r)\n",
    "def Pn(n):\n",
    "    return math.factorial(n)\n",
    "def Cnr(n,r):\n",
    "    return math.factorial(n)/(math.factorial(r)*math.factorial(n-r))"
   ]
  },
  {
   "cell_type": "code",
   "execution_count": 3,
   "metadata": {},
   "outputs": [
    {
     "name": "stdout",
     "output_type": "stream",
     "text": [
      "Variación: 12.0\n",
      "Permutación: 24\n",
      "Combinación: 6.0\n"
     ]
    }
   ],
   "source": [
    "print('Variación: {}'.format(Vnr(4,2)))\n",
    "print('Permutación: {}'.format(Pn(4)))\n",
    "print('Combinación: {}'.format(Cnr(4,2)))"
   ]
  }
 ],
 "metadata": {
  "kernelspec": {
   "display_name": "Python 3",
   "language": "python",
   "name": "python3"
  },
  "language_info": {
   "codemirror_mode": {
    "name": "ipython",
    "version": 3
   },
   "file_extension": ".py",
   "mimetype": "text/x-python",
   "name": "python",
   "nbconvert_exporter": "python",
   "pygments_lexer": "ipython3",
   "version": "3.5.2"
  }
 },
 "nbformat": 4,
 "nbformat_minor": 2
}
